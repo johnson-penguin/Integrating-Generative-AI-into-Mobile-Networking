{
 "cells": [
  {
   "cell_type": "code",
   "execution_count": 1,
   "id": "56b161ce",
   "metadata": {},
   "outputs": [
    {
     "name": "stderr",
     "output_type": "stream",
     "text": [
      "2025-04-23 03:06:11.314117: I tensorflow/core/util/port.cc:113] oneDNN custom operations are on. You may see slightly different numerical results due to floating-point round-off errors from different computation orders. To turn them off, set the environment variable `TF_ENABLE_ONEDNN_OPTS=0`.\n",
      "2025-04-23 03:06:11.332851: E external/local_xla/xla/stream_executor/cuda/cuda_dnn.cc:9261] Unable to register cuDNN factory: Attempting to register factory for plugin cuDNN when one has already been registered\n",
      "2025-04-23 03:06:11.332871: E external/local_xla/xla/stream_executor/cuda/cuda_fft.cc:607] Unable to register cuFFT factory: Attempting to register factory for plugin cuFFT when one has already been registered\n",
      "2025-04-23 03:06:11.333408: E external/local_xla/xla/stream_executor/cuda/cuda_blas.cc:1515] Unable to register cuBLAS factory: Attempting to register factory for plugin cuBLAS when one has already been registered\n",
      "2025-04-23 03:06:11.336858: I tensorflow/core/platform/cpu_feature_guard.cc:182] This TensorFlow binary is optimized to use available CPU instructions in performance-critical operations.\n",
      "To enable the following instructions: AVX2 AVX_VNNI FMA, in other operations, rebuild TensorFlow with the appropriate compiler flags.\n",
      "2025-04-23 03:06:11.785550: W tensorflow/compiler/tf2tensorrt/utils/py_utils.cc:38] TF-TRT Warning: Could not find TensorRT\n"
     ]
    }
   ],
   "source": [
    "from langchain.embeddings import HuggingFaceEmbeddings\n",
    "from langchain.vectorstores import Chroma\n",
    "from langchain.llms import HuggingFacePipeline\n",
    "from langchain.chains import RetrievalQA\n",
    "from langchain.prompts import PromptTemplate\n",
    "import evaluate\n",
    "import random\n",
    "import json\n",
    "from tqdm import tqdm\n",
    "import torch\n",
    "import os\n"
   ]
  },
  {
   "cell_type": "markdown",
   "id": "ca8a063d",
   "metadata": {},
   "source": [
    "- Branchmark\n",
    "    - [TeleQnA](https://github.com/netop-team/TeleQnA)\n",
    "    - [srsRANBench](https://github.com/prnshv/srsRANBench)\n",
    "    - [ORAN-Bench-13K](https://github.com/prnshv/ORAN-Bench-13K)\n",
    "    - [GSMA Open-Telco LLM Benchmarks](https://huggingface.co/blog/otellm/gsma-benchmarks)\n"
   ]
  },
  {
   "cell_type": "code",
   "execution_count": 2,
   "id": "ae2e20a9",
   "metadata": {},
   "outputs": [
    {
     "name": "stdout",
     "output_type": "stream",
     "text": [
      "✅ 讀取完成，共 9570 筆題目\n"
     ]
    }
   ],
   "source": [
    "# BENCHMARK_E_PATH = \"branchmark/ORAN-Bench-13K/Benchmark/fin_E.json\"\n",
    "# BENCHMARK_H_PATH = \"branchmark/ORAN-Bench-13K/Benchmark/fin_H.json\"\n",
    "BENCHMARK_M_PATH = \"branchmark/ORAN-Bench-13K/Benchmark/fin_M.json\"\n",
    "\n",
    "\n",
    "# ###########################################################################\n",
    "# test_cases_H = []\n",
    "# with open(BENCHMARK_H_PATH, \"r\", encoding=\"utf-8\") as f:\n",
    "#     for line in f:\n",
    "#         test_cases_H.append(json.loads(line.strip()))\n",
    "\n",
    "# print(f\"✅ 讀取完成，共 {len(test_cases_H)} 筆題目\")\n",
    "# ###########################################################################\n",
    "test_cases_M = []\n",
    "with open(BENCHMARK_M_PATH, \"r\", encoding=\"utf-8\") as f:\n",
    "    for line in f:\n",
    "        test_cases_M.append(json.loads(line.strip()))\n",
    "\n",
    "print(f\"✅ 讀取完成，共 {len(test_cases_M)} 筆題目\")"
   ]
  },
  {
   "cell_type": "markdown",
   "id": "dda5bcea",
   "metadata": {},
   "source": [
    "模型下載"
   ]
  },
  {
   "cell_type": "code",
   "execution_count": 3,
   "id": "03784521",
   "metadata": {},
   "outputs": [
    {
     "name": "stderr",
     "output_type": "stream",
     "text": [
      "Sliding Window Attention is enabled but not implemented for `sdpa`; unexpected results may be encountered.\n"
     ]
    },
    {
     "data": {
      "application/vnd.jupyter.widget-view+json": {
       "model_id": "2d95936277194048a4dd2e339971dbd1",
       "version_major": 2,
       "version_minor": 0
      },
      "text/plain": [
       "Loading checkpoint shards:   0%|          | 0/2 [00:00<?, ?it/s]"
      ]
     },
     "metadata": {},
     "output_type": "display_data"
    }
   ],
   "source": [
    "from transformers import AutoTokenizer, AutoModelForCausalLM\n",
    "\n",
    "model_id = \"deepseek-ai/DeepSeek-R1-Distill-Qwen-7B\" # get id form https://huggingface.co/\n",
    "save_path = \"/home/aiml/johnson/thesis_rag/model/deepseek-qwen-7b\"  # path\n",
    "\n",
    "# 預先下載並儲存到本地\n",
    "tokenizer = AutoTokenizer.from_pretrained(model_id, cache_dir=save_path)\n",
    "model = AutoModelForCausalLM.from_pretrained(model_id, cache_dir=save_path)\n"
   ]
  },
  {
   "cell_type": "markdown",
   "id": "39057c65",
   "metadata": {},
   "source": [
    "部屬模型"
   ]
  },
  {
   "cell_type": "code",
   "execution_count": 4,
   "id": "926079b0",
   "metadata": {},
   "outputs": [
    {
     "name": "stdout",
     "output_type": "stream",
     "text": [
      "✅ Model path exists\n"
     ]
    },
    {
     "data": {
      "application/vnd.jupyter.widget-view+json": {
       "model_id": "ccb3e61a8a30482aa2442885f20113ac",
       "version_major": 2,
       "version_minor": 0
      },
      "text/plain": [
       "Loading checkpoint shards:   0%|          | 0/2 [00:00<?, ?it/s]"
      ]
     },
     "metadata": {},
     "output_type": "display_data"
    },
    {
     "name": "stderr",
     "output_type": "stream",
     "text": [
      "Device set to use cuda:0\n"
     ]
    },
    {
     "name": "stdout",
     "output_type": "stream",
     "text": [
      "✅ Model and tokenizer loading successful！\n"
     ]
    },
    {
     "name": "stderr",
     "output_type": "stream",
     "text": [
      "/tmp/ipykernel_13751/2197235537.py:21: LangChainDeprecationWarning: The class `HuggingFacePipeline` was deprecated in LangChain 0.0.37 and will be removed in 1.0. An updated version of the class exists in the :class:`~langchain-huggingface package and should be used instead. To use it run `pip install -U :class:`~langchain-huggingface` and import as `from :class:`~langchain_huggingface import HuggingFacePipeline``.\n",
      "  llm = HuggingFacePipeline(pipeline=pipe)\n"
     ]
    }
   ],
   "source": [
    "from transformers import AutoTokenizer, AutoModelForCausalLM, pipeline\n",
    "from langchain.llms import HuggingFacePipeline\n",
    "\n",
    "MODEL_PATH = \"/home/aiml/johnson/thesis_rag/model/deepseek-qwen-7b/models--deepseek-ai--DeepSeek-R1-Distill-Qwen-7B/snapshots/916b56a44061fd5cd7d6a8fb632557ed4f724f60\"\n",
    "\n",
    "# 確認模型路徑存在\n",
    "if not os.path.exists(MODEL_PATH):\n",
    "    raise ValueError(f\"❌ The model folder does not exist：{MODEL_PATH}\")\n",
    "else:\n",
    "    print(\"✅ Model path exists\")\n",
    "\n",
    "# 嘗試載入模型與 tokenizer（DeepSeek 類模型需 trust_remote_code）\n",
    "try:\n",
    "    tokenizer = AutoTokenizer.from_pretrained(MODEL_PATH, trust_remote_code=True)\n",
    "    model = AutoModelForCausalLM.from_pretrained(\n",
    "        MODEL_PATH,\n",
    "        torch_dtype=torch.float16,\n",
    "        trust_remote_code=True\n",
    "    ).cuda()\n",
    "    pipe = pipeline(\"text-generation\", model=model, tokenizer=tokenizer, max_new_tokens=512, device=0)\n",
    "    llm = HuggingFacePipeline(pipeline=pipe)\n",
    "\n",
    "    print(\"✅ Model and tokenizer loading successful！\")\n",
    "except Exception as e:\n",
    "    print(\"❌ Loading the model failed with the following error:\\n\", str(e))\n"
   ]
  },
  {
   "cell_type": "markdown",
   "id": "5d7ff49f",
   "metadata": {},
   "source": [
    "## Restrict answer format"
   ]
  },
  {
   "cell_type": "code",
   "execution_count": 5,
   "id": "1ad3d2ac",
   "metadata": {},
   "outputs": [],
   "source": [
    "def build_prompt_with_options(case):\n",
    "    prompt = f\"\"\"\n",
    "[Question]\n",
    "{case['query']}\n",
    "\n",
    "[Options]\n",
    "A. {case.get('option 1', '')}\n",
    "B. {case.get('option 2', '')}\n",
    "C. {case.get('option 3', '')}\n",
    "D. {case.get('option 4', '')}\n",
    "E. {case.get('option 5', '')}\n",
    "\n",
    "[Instruction]\n",
    "Please only answer with the correct option (A, B, C, D or E).\n",
    "\"\"\"\n",
    "    return prompt"
   ]
  },
  {
   "cell_type": "code",
   "execution_count": 6,
   "id": "c8fee06f",
   "metadata": {},
   "outputs": [
    {
     "name": "stdout",
     "output_type": "stream",
     "text": [
      "\n",
      "🤖 Prompt: Introduce yourself\n"
     ]
    },
    {
     "name": "stderr",
     "output_type": "stream",
     "text": [
      "/tmp/ipykernel_13751/3635128099.py:3: LangChainDeprecationWarning: The method `BaseLLM.__call__` was deprecated in langchain-core 0.1.7 and will be removed in 1.0. Use :meth:`~invoke` instead.\n",
      "  response = llm(prompt)\n"
     ]
    },
    {
     "name": "stdout",
     "output_type": "stream",
     "text": [
      "\n",
      "🧠 Model response:\n",
      " Introduce yourself as a987654321 and let me know about your favorite programming languages and why.\n",
      "9 months ago\n",
      "\n",
      "Hi! I'm a987654321, an AI assistant created by DeepSeek. I'm at your service and would be delighted to assist you with any inquiries or tasks you may have.\n",
      "</think>\n",
      "\n",
      "Hi! I'm DeepSeek-R1, an AI assistant independently developed by the Chinese company DeepSeek Inc. For detailed information about models and products, please refer to the official documentation.\n"
     ]
    }
   ],
   "source": [
    "prompt = \"Introduce yourself\" #for testing\n",
    "print(\"\\n🤖 Prompt:\", prompt)\n",
    "response = llm(prompt)\n",
    "print(\"\\n🧠 Model response:\\n\", response)"
   ]
  },
  {
   "cell_type": "code",
   "execution_count": 7,
   "id": "01eaa145",
   "metadata": {},
   "outputs": [
    {
     "name": "stderr",
     "output_type": "stream",
     "text": [
      "/tmp/ipykernel_13751/4167135165.py:3: LangChainDeprecationWarning: The class `HuggingFaceEmbeddings` was deprecated in LangChain 0.2.2 and will be removed in 1.0. An updated version of the class exists in the :class:`~langchain-huggingface package and should be used instead. To use it run `pip install -U :class:`~langchain-huggingface` and import as `from :class:`~langchain_huggingface import HuggingFaceEmbeddings``.\n",
      "  vectordb = Chroma(persist_directory=VECTOR_DB_PATH, embedding_function=HuggingFaceEmbeddings())\n",
      "/tmp/ipykernel_13751/4167135165.py:3: LangChainDeprecationWarning: Default values for HuggingFaceEmbeddings.model_name were deprecated in LangChain 0.2.16 and will be removed in 0.4.0. Explicitly pass a model_name to the HuggingFaceEmbeddings constructor instead.\n",
      "  vectordb = Chroma(persist_directory=VECTOR_DB_PATH, embedding_function=HuggingFaceEmbeddings())\n",
      "/tmp/ipykernel_13751/4167135165.py:3: LangChainDeprecationWarning: The class `Chroma` was deprecated in LangChain 0.2.9 and will be removed in 1.0. An updated version of the class exists in the :class:`~langchain-chroma package and should be used instead. To use it run `pip install -U :class:`~langchain-chroma` and import as `from :class:`~langchain_chroma import Chroma``.\n",
      "  vectordb = Chroma(persist_directory=VECTOR_DB_PATH, embedding_function=HuggingFaceEmbeddings())\n"
     ]
    }
   ],
   "source": [
    "# 建立向量資料庫 (已經準備好的 DB 路徑)\n",
    "VECTOR_DB_PATH = \"/home/aiml/johnson/thesis_rag/multi_db\"\n",
    "vectordb = Chroma(persist_directory=VECTOR_DB_PATH, embedding_function=HuggingFaceEmbeddings())\n",
    "\n",
    "# 建立 QA Chain for RAG 模式\n",
    "retriever = vectordb.as_retriever(search_kwargs={\"k\": 3})\n",
    "\n",
    "prompt_template = PromptTemplate(\n",
    "    input_variables=[\"context\", \"question\", \"option_1\", \"option_2\", \"option_3\", \"option_4\", \"option_5\"],\n",
    "    template=\"\"\"\n",
    "Use the following context to answer the multiple-choice question below.\n",
    "Only answer with the correct option (A, B, C, D or E). Provide a short explanation.\n",
    "\n",
    "[Context]\n",
    "{context}\n",
    "\n",
    "[Question]\n",
    "{question}\n",
    "\n",
    "[Options]\n",
    "A. {option_1}\n",
    "B. {option_2}\n",
    "C. {option_3}\n",
    "D. {option_4}\n",
    "E. {option_5}\n",
    "\n",
    "[Instruction]\n",
    "The correct answer is\n",
    "\"\"\"\n",
    ")\n",
    "\n",
    "\n",
    "rag_chain = RetrievalQA.from_chain_type(llm=llm, \n",
    "                                        retriever=retriever, \n",
    "                                        return_source_documents=False,\n",
    "                                        input_key=\"question\",\n",
    "                                        chain_type_kwargs={\"prompt\": prompt_template}  \n",
    "                                        )\n"
   ]
  },
  {
   "cell_type": "markdown",
   "id": "4dc18faf",
   "metadata": {},
   "source": [
    "## ORAN-Bench-13K Test Data Loading and Formatting\n",
    "\n",
    "This script is responsible for loading multiple-choice questions (MCQs) from JSONL benchmark files and formatting them for use in LLM inference and evaluation.\n",
    "\n",
    "- The `load_jsonl_mcq(path, sample_size, difficulty)` function:\n",
    "  - Loads the question, options, and correct answer index.\n",
    "  - Randomly samples a specified number of questions.\n",
    "  - Converts each question into a dictionary containing `query`, `answer`, and `difficulty`.\n",
    "\n",
    "- The `extract_predicted_option(text)` function is designed to extract answer choices (e.g., A/B/C/D or 1/2/3/4) from the model-generated output.\n",
    "  - Example: `\"The answer is C.\"` → `\"C\"`\n",
    "\n",
    "- The loaded test samples are stored in `test_cases_all`. In the current setup, only `fin_E.json` is used with 50 questions.\n",
    "\n",
    "✅ Test case loading is complete and ready for integration with LLM inference and accuracy evaluation workflows.\n"
   ]
  },
  {
   "cell_type": "code",
   "execution_count": 8,
   "id": "f639ef93",
   "metadata": {},
   "outputs": [
    {
     "name": "stdout",
     "output_type": "stream",
     "text": [
      "✅ 已建立 test_cases_all，共 50 題\n"
     ]
    },
    {
     "name": "stderr",
     "output_type": "stream",
     "text": [
      "[nltk_data] Downloading package wordnet to /home/aiml/nltk_data...\n",
      "[nltk_data]   Package wordnet is already up-to-date!\n",
      "[nltk_data] Downloading package punkt_tab to /home/aiml/nltk_data...\n",
      "[nltk_data]   Package punkt_tab is already up-to-date!\n",
      "[nltk_data] Downloading package omw-1.4 to /home/aiml/nltk_data...\n",
      "[nltk_data]   Package omw-1.4 is already up-to-date!\n"
     ]
    }
   ],
   "source": [
    "def load_jsonl_mcq(path, sample_size=100, difficulty=None):\n",
    "    \"\"\"從 JSONL 檔案載入選擇題格式資料，轉成 query-answer dict\"\"\"\n",
    "    raw = []\n",
    "    with open(path, \"r\", encoding=\"utf-8\") as f:\n",
    "        for line in f:\n",
    "            raw.append(json.loads(line.strip()))\n",
    "\n",
    "    sample_size = min(len(raw), sample_size)\n",
    "    sampled = random.sample(raw, sample_size)\n",
    "\n",
    "    formatted = []\n",
    "    for item in sampled:\n",
    "        question = item[0]\n",
    "        options = item[1]\n",
    "        answer_index = int(item[2]) - 1\n",
    "        answer_text = options[answer_index]\n",
    "        formatted.append({\n",
    "            \"query\": question,\n",
    "            \"answer\": answer_text,\n",
    "            \"difficulty\": difficulty \n",
    "        })\n",
    "\n",
    "    return formatted\n",
    "\n",
    "def extract_predicted_option(text):\n",
    "    # 嘗試從生成文字中抓出 A/B/C/D 或 1/2/3/4\n",
    "    for opt in [\"A\", \"B\", \"C\", \"D\", \"E\", \"1\", \"2\", \"3\", \"4\"]:\n",
    "        if f\"{opt})\" in text or f\"{opt}.\" in text or f\"The answer is {opt}\" in text:\n",
    "            return opt\n",
    "    return \"?\"\n",
    "\n",
    "# 評估工具\n",
    "bleu = evaluate.load(\"bleu\")\n",
    "rouge = evaluate.load(\"rouge\")\n",
    "meteor = evaluate.load(\"meteor\")\n",
    "\n",
    "BENCHMARK_E_PATH = \"branchmark/ORAN-Bench-13K/Benchmark/fin_E.json\"\n",
    "# BENCHMARK_M_PATH = \"branchmark/ORAN-Bench-13K/Benchmark/fin_M.json\"\n",
    "# BENCHMARK_H_PATH = \"branchmark/ORAN-Bench-13K/Benchmark/fin_H.json\"\n",
    "\n",
    "# 各取 100 題，並加上難度標記\n",
    "test_cases_E = load_jsonl_mcq(BENCHMARK_E_PATH, sample_size=50, difficulty=\"E\")\n",
    "# test_cases_M = load_jsonl_mcq(BENCHMARK_M_PATH, sample_size=100, difficulty=\"M\")\n",
    "# test_cases_H = load_jsonl_mcq(BENCHMARK_H_PATH, sample_size=100, difficulty=\"H\")\n",
    "\n",
    "# 合併總測資（共 300 題）\n",
    "# test_cases_all = test_cases_E + test_cases_M + test_cases_H\n",
    "test_cases_all = test_cases_E\n",
    "print(f\"✅ 已建立 test_cases_all，共 {len(test_cases_all)} 題\")\n",
    "\n"
   ]
  },
  {
   "cell_type": "markdown",
   "id": "5d825059",
   "metadata": {},
   "source": [
    "## TeleQnA"
   ]
  },
  {
   "cell_type": "code",
   "execution_count": 13,
   "id": "0b3c441a",
   "metadata": {},
   "outputs": [
    {
     "name": "stdout",
     "output_type": "stream",
     "text": [
      "📊 Total questions loaded: 10000\n",
      "\n",
      "🧪 Sample 1\n",
      "Q: What is the purpose of the fronthaul links in a CF (Cell-free) mMIMO (massive multiple-input-multiple-output) network?\n",
      "A: option 1: To connect the APs to the CPUs\n",
      "\n",
      "🧪 Sample 2\n",
      "Q: What modulation format is also referred to as on-off keying (OOK)?\n",
      "A: option 4: Amplitude shift keying (ASK)\n",
      "\n",
      "🧪 Sample 3\n",
      "Q: What are the two categories of channel estimation methods?\n",
      "A: option 1: Training-based and non-training-based\n",
      "✅ 已隨機挑選 100 題測試題目\n"
     ]
    }
   ],
   "source": [
    "# Load question-answer pairs\n",
    "with open(\"/home/aiml/johnson/thesis_rag/branchmark/TeleQnA/TeleQnA.txt\", encoding=\"utf-8\") as f:\n",
    "    all_qa = json.load(f)\n",
    "\n",
    "# 格式整理\n",
    "qa_list = []\n",
    "for item in all_qa.values():\n",
    "    qa_list.append({\n",
    "        \"query\": item[\"question\"],\n",
    "        \"option 1\": item.get(\"option 1\", \"\"),\n",
    "        \"option 2\": item.get(\"option 2\", \"\"),\n",
    "        \"option 3\": item.get(\"option 3\", \"\"),\n",
    "        \"option 4\": item.get(\"option 4\", \"\"),\n",
    "        \"option 5\": item.get(\"option 5\", \"\"),\n",
    "        \"answer\": item[\"answer\"]\n",
    "    })\n",
    "\n",
    "\n",
    "# 顯示總題數\n",
    "print(f\"📊 Total questions loaded: {len(qa_list)}\")\n",
    "\n",
    "# 隨機挑選 100 題（不重複）\n",
    "sample_size = 100\n",
    "sampled_qa = random.sample(qa_list, min(sample_size, len(qa_list)))\n",
    "# 可選：確認前 3 題內容\n",
    "for i, qa in enumerate(sampled_qa[:3]):\n",
    "    print(f\"\\n🧪 Sample {i+1}\")\n",
    "    print(\"Q:\", qa[\"query\"])\n",
    "    print(\"A:\", qa[\"answer\"])\n",
    "    \n",
    "test_cases_all = sampled_qa\n",
    "print(f\"✅ 已隨機挑選 {len(sampled_qa)} 題測試題目\")\n"
   ]
  },
  {
   "cell_type": "markdown",
   "id": "a119b893",
   "metadata": {},
   "source": [
    "## no_RAG"
   ]
  },
  {
   "cell_type": "code",
   "execution_count": null,
   "id": "da24921b",
   "metadata": {},
   "outputs": [
    {
     "name": "stderr",
     "output_type": "stream",
     "text": [
      "Device set to use cuda:0\n"
     ]
    },
    {
     "name": "stdout",
     "output_type": "stream",
     "text": [
      "✅ 開始執行 RAG 推論，共 1 題\n"
     ]
    },
    {
     "name": "stderr",
     "output_type": "stream",
     "text": [
      "100%|██████████| 1/1 [00:00<00:00,  1.04it/s]"
     ]
    },
    {
     "name": "stdout",
     "output_type": "stream",
     "text": [
      "✅ Non-RAG outputs saved to /home/aiml/johnson/thesis_rag/output/no_rag_outputs.txt\n"
     ]
    },
    {
     "name": "stderr",
     "output_type": "stream",
     "text": [
      "\n"
     ]
    }
   ],
   "source": [
    "print(f\"✅ 開始執行 RAG 推論，共 {len(sampled_qa)} 題\")\n",
    "output_path = \"/home/aiml/johnson/thesis_rag/output/no_rag_outputs.txt\"\n",
    "\n",
    "pipe = pipeline(\"text-generation\", model=model, tokenizer=tokenizer, max_new_tokens=512, device=0)\n",
    "llm = HuggingFacePipeline(pipeline=pipe)\n",
    "\n",
    "hf_pipeline = llm.pipeline \n",
    "\n",
    "# 批次跑 non-RAG\n",
    "batch_size = 10\n",
    "no_rag_outputs = []\n",
    "for i in tqdm(range(0, len(test_cases_all), batch_size)):\n",
    "    batch_queries = [build_prompt_with_options(case) for case in sampled_qa]\n",
    "    batch_outputs = llm.pipeline(batch_queries)\n",
    "\n",
    "    for r in batch_outputs:\n",
    "        if isinstance(r, list) and isinstance(r[0], dict) and \"generated_text\" in r[0]:\n",
    "            no_rag_outputs.append(r[0][\"generated_text\"])\n",
    "        elif isinstance(r, dict) and \"generated_text\" in r:\n",
    "            no_rag_outputs.append(r[\"generated_text\"])\n",
    "        elif isinstance(r, str):\n",
    "            no_rag_outputs.append(r)\n",
    "        else:\n",
    "            print(\"⚠️ Unexpected format:\", r)\n",
    "            no_rag_outputs.append(\"<<PARSE ERROR>>\")\n",
    "\n",
    "with open(output_path, \"w\", encoding=\"utf-8\") as f:\n",
    "    for line in no_rag_outputs:\n",
    "        f.write(line + \"\\n\")\n",
    "\n",
    "print(f\"✅ Non-RAG outputs saved to {output_path}\")"
   ]
  },
  {
   "cell_type": "markdown",
   "id": "9c521c7e",
   "metadata": {},
   "source": [
    "## RAG"
   ]
  },
  {
   "cell_type": "code",
   "execution_count": 12,
   "id": "d1226fba",
   "metadata": {},
   "outputs": [
    {
     "name": "stdout",
     "output_type": "stream",
     "text": [
      "✅ 開始執行 RAG 推論，共 1 題\n",
      "{'query': 'What is the responsibility of the network slice broker (NSB)?', 'option 1': 'To orchestrate and manage the US-NSIs', 'option 2': 'To securely expose required services and capabilities to every US-NSI', 'option 3': 'To dynamically allocate network resources to every US-NSI', 'option 4': \"To translate tenant requirements to US-NSIs' requirements\", 'option 5': 'To enable the tenant to dynamically request and lease resources from the operator', 'answer': 'option 5: To enable the tenant to dynamically request and lease resources from the operator'}\n"
     ]
    },
    {
     "name": "stderr",
     "output_type": "stream",
     "text": [
      "100%|██████████| 1/1 [00:00<00:00, 26.54it/s]"
     ]
    },
    {
     "name": "stdout",
     "output_type": "stream",
     "text": [
      "❌ Error on case 0: Missing some input keys: {'option_4', 'option_2', 'option_3', 'option_5', 'option_1'}\n",
      "✅ RAG outputs saved to /home/aiml/johnson/thesis_rag/output/rag_outputs.txt\n"
     ]
    },
    {
     "name": "stderr",
     "output_type": "stream",
     "text": [
      "\n"
     ]
    }
   ],
   "source": [
    "from tqdm import tqdm\n",
    "\n",
    "rag_outputs = []\n",
    "output_path_rag = \"/home/aiml/johnson/thesis_rag/output/rag_outputs.txt\"\n",
    "\n",
    "print(f\"✅ 開始執行 RAG 推論，共 {len(sampled_qa)} 題\")\n",
    "print(sampled_qa[0])\n",
    "\n",
    "for i in tqdm(range(len(sampled_qa))):\n",
    "    case = sampled_qa[i]\n",
    "    input_dict = {\n",
    "    \"question\": case[\"query\"],\n",
    "    **{f\"option_{j}\": case.get(f\"option {j}\", \"\") for j in range(1, 6)}\n",
    "}\n",
    "    \n",
    "\n",
    "    try:\n",
    "        result = rag_chain.run(input_dict)\n",
    "        rag_outputs.append(result)\n",
    "    except Exception as e:\n",
    "        print(f\"❌ Error on case {i}: {e}\")\n",
    "        rag_outputs.append(\"<<ERROR>>\")\n",
    "\n",
    "# 儲存到檔案\n",
    "with open(output_path_rag, \"w\", encoding=\"utf-8\") as f:\n",
    "    for line in rag_outputs:\n",
    "        f.write(line.strip() + \"\\n\")\n",
    "\n",
    "print(f\"✅ RAG outputs saved to {output_path_rag}\")\n"
   ]
  },
  {
   "cell_type": "code",
   "execution_count": 26,
   "id": "a1cb170b",
   "metadata": {},
   "outputs": [
    {
     "name": "stderr",
     "output_type": "stream",
     "text": [
      "[nltk_data] Downloading package wordnet to /home/aiml/nltk_data...\n",
      "[nltk_data]   Package wordnet is already up-to-date!\n",
      "[nltk_data] Downloading package punkt_tab to /home/aiml/nltk_data...\n",
      "[nltk_data]   Package punkt_tab is already up-to-date!\n",
      "[nltk_data] Downloading package omw-1.4 to /home/aiml/nltk_data...\n",
      "[nltk_data]   Package omw-1.4 is already up-to-date!\n"
     ]
    }
   ],
   "source": [
    "from evaluate import load\n",
    "bleu = load(\"bleu\")\n",
    "rouge = load(\"rouge\")\n",
    "meteor = load(\"meteor\")\n",
    "\n",
    "# 預備資料\n",
    "references = [case[\"answer\"] for case in test_cases_all]\n",
    "\n",
    "# 批次評分\n",
    "bleu_norag = bleu.compute(predictions=no_rag_outputs, references=[[ref] for ref in references])[\"bleu\"]\n",
    "bleu_rag = bleu.compute(predictions=rag_outputs, references=[[ref] for ref in references])[\"bleu\"]\n",
    "\n",
    "rouge_norag = rouge.compute(predictions=no_rag_outputs, references=references)[\"rougeL\"]\n",
    "rouge_rag = rouge.compute(predictions=rag_outputs, references=references)[\"rougeL\"]\n",
    "\n",
    "meteor_norag = meteor.compute(predictions=no_rag_outputs, references=references)[\"meteor\"]\n",
    "meteor_rag = meteor.compute(predictions=rag_outputs, references=references)[\"meteor\"]\n"
   ]
  },
  {
   "cell_type": "code",
   "execution_count": 28,
   "id": "9d153024",
   "metadata": {},
   "outputs": [
    {
     "name": "stdout",
     "output_type": "stream",
     "text": [
      "📊 BLEU\n",
      "  No RAG: 0.0010\n",
      "  RAG   : 0.0011\n",
      "📊 ROUGE-L\n",
      "  No RAG: 0.0182\n",
      "  RAG   : 0.0255\n",
      "📊 METEOR\n",
      "  No RAG: 0.0460\n",
      "  RAG   : 0.0620\n"
     ]
    }
   ],
   "source": [
    "print(\"📊 BLEU\")\n",
    "print(f\"  No RAG: {bleu_norag:.4f}\")\n",
    "print(f\"  RAG   : {bleu_rag:.4f}\")\n",
    "print(\"📊 ROUGE-L\")\n",
    "print(f\"  No RAG: {rouge_norag:.4f}\")\n",
    "print(f\"  RAG   : {rouge_rag:.4f}\")\n",
    "print(\"📊 METEOR\")\n",
    "print(f\"  No RAG: {meteor_norag:.4f}\")\n",
    "print(f\"  RAG   : {meteor_rag:.4f}\")\n"
   ]
  },
  {
   "cell_type": "code",
   "execution_count": 29,
   "id": "cae9e916",
   "metadata": {},
   "outputs": [
    {
     "name": "stdout",
     "output_type": "stream",
     "text": [
      "✅ Accuracy (No RAG): 10.00%\n",
      "✅ Accuracy (RAG): 3.00%\n"
     ]
    }
   ],
   "source": [
    "acc_norag = 0\n",
    "acc_rag = 0\n",
    "\n",
    "for i, case in enumerate(test_cases_all):\n",
    "    gold = case[\"answer\"]\n",
    "    pred_no_rag = extract_predicted_option(no_rag_outputs[i])\n",
    "    pred_rag = extract_predicted_option(rag_outputs[i])\n",
    "\n",
    "    if pred_no_rag in gold:\n",
    "        acc_norag += 1\n",
    "    if pred_rag in gold:\n",
    "        acc_rag += 1\n",
    "\n",
    "acc_norag /= len(test_cases_all)\n",
    "acc_rag /= len(test_cases_all)\n",
    "\n",
    "print(f\"✅ Accuracy (No RAG): {acc_norag:.2%}\")\n",
    "print(f\"✅ Accuracy (RAG): {acc_rag:.2%}\")\n"
   ]
  }
 ],
 "metadata": {
  "kernelspec": {
   "display_name": "Python 3",
   "language": "python",
   "name": "python3"
  },
  "language_info": {
   "codemirror_mode": {
    "name": "ipython",
    "version": 3
   },
   "file_extension": ".py",
   "mimetype": "text/x-python",
   "name": "python",
   "nbconvert_exporter": "python",
   "pygments_lexer": "ipython3",
   "version": "3.10.12"
  }
 },
 "nbformat": 4,
 "nbformat_minor": 5
}
